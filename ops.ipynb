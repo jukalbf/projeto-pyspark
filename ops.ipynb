{
 "cells": [
  {
   "cell_type": "code",
   "execution_count": 23,
   "id": "7309f8c3",
   "metadata": {},
   "outputs": [
    {
     "name": "stdout",
     "output_type": "stream",
     "text": [
      "+-----+--------------------+\n",
      "|   hr|                   l|\n",
      "+-----+--------------------+\n",
      "|21:21|{'c': '5632-10', ...|\n",
      "|21:21|{'c': '2714-10', ...|\n",
      "|21:21|{'c': '8400-10', ...|\n",
      "|21:21|{'c': '4006-10', ...|\n",
      "|21:21|{'c': '4056-10', ...|\n",
      "+-----+--------------------+\n",
      "only showing top 5 rows\n",
      "\n"
     ]
    }
   ],
   "source": [
    "from pyspark.sql import SparkSession\n",
    "from pyspark.sql import functions as F\n",
    "from pyspark.sql.types import StructType, StructField, StringType, IntegerType\n",
    "\n",
    "spark = SparkSession.builder.appName(\"ProcessamentoSPTrans\").getOrCreate()\n",
    "\n",
    "df = spark.read.csv(\"data/raw/sptrans_linhas.csv\", header=True, inferSchema=False)\n",
    "\n",
    "df.show(5)"
   ]
  },
  {
   "cell_type": "code",
   "execution_count": 27,
   "id": "c39d966a",
   "metadata": {},
   "outputs": [
    {
     "name": "stderr",
     "output_type": "stream",
     "text": [
      "                                                                                \r"
     ]
    },
    {
     "name": "stdout",
     "output_type": "stream",
     "text": [
      "+-----+------------+--------------------+-----------------+----+--------+---------+\n",
      "|   hr|codigo_linha|              origem|          destino|tipo|circular|codigo_cl|\n",
      "+-----+------------+--------------------+-----------------+----+--------+---------+\n",
      "|21:21|     5632-10|  LGO. SÃO FRANCISCO|     VL. SÃO JOSÉ|NULL|       2|    32849|\n",
      "|21:21|     2714-10|     VL. RUI BARBOSA|METRÔ VL. MATILDE|NULL|       2|    33695|\n",
      "|21:21|     8400-10|PÇA. RAMOS DE AZE...|   TERM. PIRITUBA|NULL|       2|    34033|\n",
      "|21:21|     4006-10|            CIRCULAR| JD. NOVA VITÓRIA|NULL|       1|     2180|\n",
      "|21:21|     4056-10|    TERM. SÃO MATEUS|PQ. BOA ESPERANÇA|NULL|       2|    35005|\n",
      "|21:21|     9653-10|     PÇA. DO CORREIO|     PEDRA BRANCA|NULL|       2|    33356|\n",
      "|21:21|     6358-10|      TERM. BANDEIRA|         JD. LUSO|NULL|       2|    34062|\n",
      "|21:21|     4310-10|TERM. PQ. D. PEDR...|    E.T. ITAQUERA|NULL|       1|     2160|\n",
      "|21:21|     675K-10|     METRÔ STA. CRUZ| TERM. JD. ÂNGELA|NULL|       2|    32966|\n",
      "|21:21|     178A-10|                LAPA|    METRÔ SANTANA|NULL|       2|    33326|\n",
      "+-----+------------+--------------------+-----------------+----+--------+---------+\n",
      "only showing top 10 rows\n",
      "\n"
     ]
    },
    {
     "name": "stderr",
     "output_type": "stream",
     "text": [
      "                                                                                \r"
     ]
    }
   ],
   "source": [
    "from pyspark.sql import SparkSession, functions as F, types as T\n",
    "import ast\n",
    "\n",
    "spark = SparkSession.builder.appName(\"ProcessamentoSPTrans\").getOrCreate()\n",
    "\n",
    "# Leitura do CSV\n",
    "df = spark.read.csv(\"data/raw/sptrans_linhas.csv\", header=True, inferSchema=False)\n",
    "\n",
    "# UDF convertendo dicionário Python com tipos mistos para string no Map\n",
    "def parse_dict(s):\n",
    "    try:\n",
    "        d = ast.literal_eval(s)\n",
    "        return {str(k): str(v) for k, v in d.items()}\n",
    "    except:\n",
    "        return {}\n",
    "\n",
    "parse_udf = F.udf(parse_dict, T.MapType(T.StringType(), T.StringType()))\n",
    "\n",
    "df = df.withColumn(\"l_json\", parse_udf(F.col(\"l\")))\n",
    "\n",
    "# Agora conseguimos acessar tudo como string\n",
    "df_final = df.select(\n",
    "    \"hr\",\n",
    "    F.col(\"l_json\")[\"c\"].alias(\"codigo_linha\"),\n",
    "    F.col(\"l_json\")[\"lt0\"].alias(\"origem\"),\n",
    "    F.col(\"l_json\")[\"lt1\"].alias(\"destino\"),\n",
    "    F.col(\"l_json\")[\"tp\"].alias(\"tipo\"),\n",
    "    F.col(\"l_json\")[\"sl\"].alias(\"circular_str\"),\n",
    "    F.col(\"l_json\")[\"cl\"].alias(\"codigo_cl_str\")\n",
    ")\n",
    "\n",
    "# Cast para os campos numéricos\n",
    "df_final = df_final.withColumn(\"circular\", F.col(\"circular_str\").cast(T.IntegerType()))\n",
    "df_final = df_final.withColumn(\"codigo_cl\", F.col(\"codigo_cl_str\").cast(T.IntegerType()))\n",
    "\n",
    "df_final = df_final.drop(\"circular_str\", \"codigo_cl_str\")\n",
    "\n",
    "df_final.show(10)\n",
    "\n",
    "df_final.write.csv(\"data/processed/dataset.csv\", header=True, mode=\"overwrite\")"
   ]
  }
 ],
 "metadata": {
  "kernelspec": {
   "display_name": ".venv",
   "language": "python",
   "name": "python3"
  },
  "language_info": {
   "codemirror_mode": {
    "name": "ipython",
    "version": 3
   },
   "file_extension": ".py",
   "mimetype": "text/x-python",
   "name": "python",
   "nbconvert_exporter": "python",
   "pygments_lexer": "ipython3",
   "version": "3.12.3"
  }
 },
 "nbformat": 4,
 "nbformat_minor": 5
}
